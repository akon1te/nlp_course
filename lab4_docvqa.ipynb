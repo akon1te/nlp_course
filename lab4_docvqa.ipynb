{
 "cells": [
  {
   "cell_type": "markdown",
   "metadata": {},
   "source": [
    "Лабораторная работа - тренировка ЛЛМ на датасете [DocVQA](https://rrc.cvc.uab.es/?ch=17&com=introduction). <br>\n",
    "Датасет содержит анотации с вопросами к документам и OCR по словам.\n",
    "\n",
    "Задачами лабораторной будут:\n",
    "\n",
    "1. Тренировка phi-2 \n",
    "2. Тренировка tinyLlama\n",
    "\n",
    "Промпт для моделей будет представлять из себя"
   ]
  }
 ],
 "metadata": {
  "kernelspec": {
   "display_name": "venv",
   "language": "python",
   "name": "python3"
  },
  "language_info": {
   "codemirror_mode": {
    "name": "ipython",
    "version": 3
   },
   "file_extension": ".py",
   "mimetype": "text/x-python",
   "name": "python",
   "nbconvert_exporter": "python",
   "pygments_lexer": "ipython3",
   "version": "3.10.12"
  }
 },
 "nbformat": 4,
 "nbformat_minor": 2
}
